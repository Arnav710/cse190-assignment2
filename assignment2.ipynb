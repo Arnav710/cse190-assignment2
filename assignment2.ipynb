{
 "cells": [
  {
   "cell_type": "markdown",
   "metadata": {},
   "source": [
    "# Context\n",
    "\n",
    "### FILL IN CONTEXT FOR THE DATASET HERE\n",
    "Where does your dataset come from? What is it for, how was it\n",
    "collected, etc.?\n",
    "\n",
    "FILL HERE"
   ]
  },
  {
   "cell_type": "markdown",
   "metadata": {},
   "source": [
    "# TASK\n",
    "Code: Report standard accuracy and fairness metrics of labels and predictions,\n",
    "such as those in Modules 1 and 2;"
   ]
  },
  {
   "cell_type": "code",
   "execution_count": null,
   "metadata": {},
   "outputs": [],
   "source": [
    "# fill in code here"
   ]
  },
  {
   "cell_type": "markdown",
   "metadata": {},
   "source": [
    "# Task\n",
    "\n",
    "Discuss which fairness metrics are specifically relevant to your task,\n",
    "e.g. accuracy parity might be less appropriate for recidivism prediction than\n",
    "demographic parity (etc.)\n",
    "\n",
    "FILL HERE"
   ]
  },
  {
   "cell_type": "markdown",
   "metadata": {},
   "source": [
    "# TASK\n",
    "\n",
    "How much can “unfairness” in your predictions be explained by dataset\n",
    "characteristics? Can you fix them with dataset-based interventions?"
   ]
  },
  {
   "cell_type": "code",
   "execution_count": null,
   "metadata": {},
   "outputs": [],
   "source": [
    "# fill in code here"
   ]
  },
  {
   "cell_type": "markdown",
   "metadata": {},
   "source": [
    "# TASK\n",
    "\n",
    "How do different modeling choices impact fairness characteristics? Can\n",
    "you fix them with in-processing interventions?"
   ]
  },
  {
   "cell_type": "code",
   "execution_count": null,
   "metadata": {},
   "outputs": [],
   "source": [
    "# fill in code here"
   ]
  },
  {
   "cell_type": "markdown",
   "metadata": {},
   "source": [
    "# TASK\n",
    "\n",
    "Can you apply post-processing interventions to achieve desired fairness outcomes"
   ]
  },
  {
   "cell_type": "code",
   "execution_count": null,
   "metadata": {},
   "outputs": [],
   "source": [
    "# fill in code here"
   ]
  },
  {
   "cell_type": "markdown",
   "metadata": {},
   "source": [
    "# TASK \n",
    "\n",
    "Discussion: What types of interventions are most appropriate for your task (e.g.\n",
    "legal, practical to deploy, etc.)? What are the tradeoffs between them (e.g. how\n",
    "are other metrics negatively impacted by a particular intervention, etc.)\n",
    "\n",
    "FILL HERE"
   ]
  },
  {
   "cell_type": "markdown",
   "metadata": {},
   "source": [
    "# TASK\n",
    "\n",
    "Implement a fairness intervention described in a research paper. Some\n",
    "possibilities include examples from class\n",
    "\n",
    "Additionally, Attempt to reproduce results similar to those reported in the paper on your\n",
    "dataset (or comment in detail about any failure to do so)"
   ]
  },
  {
   "cell_type": "code",
   "execution_count": null,
   "metadata": {},
   "outputs": [],
   "source": [
    "# fill in code here"
   ]
  },
  {
   "cell_type": "markdown",
   "metadata": {},
   "source": [
    "# TASK\n",
    "\n",
    "Summarize the main contributions of the paper and its relevance to\n",
    "your task\n",
    "\n",
    "FILL HERE"
   ]
  },
  {
   "cell_type": "markdown",
   "metadata": {},
   "source": [
    "# TASK\n",
    "\n",
    "Is it more effective than other intervention strategies you tried? Why\n",
    "or why not? Conclude your presentation with a general discussion of what was\n",
    "and was not effective for your task.\n",
    "\n",
    "FILL HERE"
   ]
  }
 ],
 "metadata": {
  "language_info": {
   "name": "python"
  }
 },
 "nbformat": 4,
 "nbformat_minor": 2
}
